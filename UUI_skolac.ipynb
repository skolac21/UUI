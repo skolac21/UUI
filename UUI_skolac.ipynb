{
 "cells": [
  {
   "cell_type": "markdown",
   "id": "d779ecd5-c3bf-4dfb-baba-98fdf6a52ad7",
   "metadata": {},
   "source": [
    "# UUI Projekt - Sara Kolac"
   ]
  },
  {
   "cell_type": "markdown",
   "id": "189d0adc-4628-44b0-8fb3-d6562f89c1c1",
   "metadata": {},
   "source": [
    "TEMA: Razvoj sustava za automatizirano vođenje inventara koristeći ontologije: Implementacija sustava koji koristi ontologije za organizaciju i praćenje inventara u skladištima ili maloprodajama."
   ]
  },
  {
   "cell_type": "code",
   "execution_count": 1,
   "id": "3be29271-fb70-4265-bdcc-16fb4cf4d5ee",
   "metadata": {},
   "outputs": [],
   "source": [
    "#!pip install owlready2"
   ]
  },
  {
   "cell_type": "code",
   "execution_count": 3,
   "id": "ecf47038-715f-489b-92ad-d12f579210bc",
   "metadata": {},
   "outputs": [
    {
     "name": "stdout",
     "output_type": "stream",
     "text": [
      "Current Inventory:\n",
      "Item: Laptop\n",
      "ID: ID123\n",
      "Type: electronics\n",
      "Quantity: 20\n",
      "Shelf: ShelfA1\n",
      "Section: SectionA\n",
      "Warehouse: MainWarehouse\n",
      "______\n",
      "Item: Phone\n",
      "ID: ID321\n",
      "Type: electronics\n",
      "Quantity: 50\n",
      "Shelf: ShelfB1\n",
      "Section: SectionB\n",
      "Warehouse: MainWarehouse\n",
      "______\n"
     ]
    }
   ],
   "source": [
    "from owlready2 import *\n",
    "\n",
    "onto = get_ontology(\"file://warehouse_inventory.owl\")\n",
    "\n",
    "with onto:\n",
    "    #za Artikl\n",
    "    class Item(Thing): pass\n",
    "    class Resource(Thing): pass\n",
    "\n",
    "    #pozicija artikla\n",
    "    class Warehouse(Resource): pass\n",
    "    class Section(Resource): pass\n",
    "    class Shelf(Resource): pass\n",
    "\n",
    "    #podklase Artikla\n",
    "    class has_ID(Item >> str): pass\n",
    "    class has_type(Item >> str): pass\n",
    "    class has_quantity(Item >> int): pass   \n",
    "    class on_shelf(Item >> Shelf): pass\n",
    "\n",
    "    #instance\n",
    "    warehouse_main = Warehouse(\"MainWarehouse\")\n",
    "    section_a = Section(\"SectionA\")\n",
    "    section_b = Section(\"SectionB\")\n",
    "    shelf_a1 = Shelf(\"ShelfA1\")\n",
    "    shelf_b1 = Shelf(\"ShelfB1\")\n",
    "    \n",
    "    #restrikcije\n",
    "    section_a.part_of = [warehouse_main]\n",
    "    section_b.part_of = [warehouse_main]\n",
    "    shelf_a1.part_of = [section_a]\n",
    "    shelf_b1.part_of = [section_b]\n",
    "\n",
    "    #instance item\n",
    "    item_laptop = Item(\"Laptop\",\n",
    "                       has_ID=[\"ID123\"],\n",
    "                       has_type=[\"electronics\"],\n",
    "                       has_quantity=[20],\n",
    "                       on_shelf=[shelf_a1])\n",
    "    item_phone = Item(\"Phone\",\n",
    "                      has_ID=[\"ID321\"],\n",
    "                      has_type=[\"electronics\"],\n",
    "                      has_quantity=[50],\n",
    "                      on_shelf=[shelf_b1])\n",
    "\n",
    "#spremanje u datoteku\n",
    "onto.save(\"warehouse_inventory.owl\")\n",
    "\n",
    "\n",
    "def new_item(name, item_id, item_type, quantity, shelf_name):\n",
    "        new_item = onto.Item(name,\n",
    "                             has_ID=[item_id],\n",
    "                             has_type=[item_type],\n",
    "                             has_quantity=[quantity],\n",
    "                             on_shelf=[shelf_name])\n",
    "        \n",
    "        onto.save(\"warehouse_inventory.owl\")\n",
    "        \n",
    "        print(f\"Added {name} to shelf {shelf_name}\")\n",
    "\n",
    "\n",
    "\n",
    "def move_item(item_name, new_shelf_name):\n",
    "\n",
    "    item = onto.search_one(iri=f\"*{item_name}\")\n",
    "    new_shelf = onto.search_one(iri=f\"*{new_shelf_name}\")\n",
    "    \n",
    "    if item and new_shelf:\n",
    "        item.on_shelf = [new_shelf]\n",
    "        print(f\"Moved {item_name} to {new_shelf_name}\")\n",
    "    else:\n",
    "        print(f\"Wrong input\")\n",
    "\n",
    "\n",
    "def add_stock(item_name, quantity):\n",
    "    \n",
    "    item = onto.search_one(iri=f\"*{item_name}\")\n",
    "    if item:\n",
    "        item.has_quantity[0] += quantity\n",
    "        print(f\"Added {quantity} to {item_name}. New quantity: {item.has_quantity[0]}\")\n",
    "    else:\n",
    "        print(f\"Wrong input\")\n",
    "\n",
    "\n",
    "\n",
    "\n",
    "def remove_stock(item_name, quantity):\n",
    "    \n",
    "    item = onto.search_one(iri=f\"*{item_name}\")\n",
    "    if item:\n",
    "        if item.has_quantity[0] >= quantity:\n",
    "            item.has_quantity[0] -= quantity\n",
    "            print(f\"Removed {quantity} from {item_name}. New quantity: {item.has_quantity[0]}\")\n",
    "        else:\n",
    "            print(f\"Error: Not enough stock of {item_name} to remove {quantity}\")\n",
    "    else:\n",
    "        print(f\"Wrong input\")\n",
    "\n",
    "\n",
    "\n",
    "\n",
    "# ispitujemo \n",
    "def query_shelf_for_item(item_name):\n",
    "    item = onto.search_one(iri=f\"*{item_name}\")\n",
    "    if item and item.on_shelf:\n",
    "        shelf_name = item.on_shelf[0].name\n",
    "        print(f\"{item_name} is located on shelf: {shelf_name}\")\n",
    "    else:\n",
    "        print(f\"Item doesn't exist\")\n",
    "\n",
    "\n",
    "\n",
    "def query_items_on_shelf(shelf_name):\n",
    "    shelf = onto.search_one(iri=f\"*{shelf_name}\")\n",
    "    if shelf:\n",
    "        print(f\"Items on shelf {shelf_name}\")\n",
    "        items = [item for item in onto.Item.instances() if shelf in item.on_shelf]\n",
    "        if items:\n",
    "            for item in items:\n",
    "                print(f\"{item.name} (Quantity: {item.has_quantity[0]})\")\n",
    "        else:\n",
    "            print(f\"No items found on shelf '{shelf_name}'\")\n",
    "    else:\n",
    "        print(f\"Shelf does not exist\")\n",
    "\n",
    "\n",
    "#ispisivanje trenutnog inventara\n",
    "def inventory():\n",
    "    print(f\"Current Inventory:\")\n",
    "    for item in onto.Item.instances():\n",
    "        print(f\"Item: {item.name}\")\n",
    "        print(f\"ID: {item.has_ID[0]}\")\n",
    "        print(f\"Type: {item.has_type[0]}\")\n",
    "        print(f\"Quantity: {item.has_quantity[0]}\")\n",
    "        print(f\"Shelf: {item.on_shelf[0].name}\")\n",
    "        print(f\"Section: {item.on_shelf[0].part_of[0].name}\")\n",
    "        print(f\"Warehouse: {item.on_shelf[0].part_of[0].part_of[0].name}\")\n",
    "        print(f\"______\")\n",
    "\n",
    "\n",
    "if __name__ == \"__main__\":\n",
    "    inventory()"
   ]
  },
  {
   "cell_type": "code",
   "execution_count": 5,
   "id": "7b5855fc-826f-4e35-89ab-7b97428878b5",
   "metadata": {},
   "outputs": [
    {
     "name": "stdout",
     "output_type": "stream",
     "text": [
      "Laptop is located on shelf: ShelfA1\n"
     ]
    }
   ],
   "source": [
    "query_shelf_for_item(\"Laptop\")"
   ]
  },
  {
   "cell_type": "code",
   "execution_count": 7,
   "id": "06938391-dfc9-4be7-ad77-9f30424e8e21",
   "metadata": {},
   "outputs": [
    {
     "name": "stdout",
     "output_type": "stream",
     "text": [
      "Items on shelf ShelfA1\n",
      "Laptop (Quantity: 20)\n"
     ]
    }
   ],
   "source": [
    "query_items_on_shelf(\"ShelfA1\")"
   ]
  },
  {
   "cell_type": "code",
   "execution_count": 9,
   "id": "04c1bbff-696f-4d61-81f6-1b48c1c70f7b",
   "metadata": {},
   "outputs": [
    {
     "name": "stdout",
     "output_type": "stream",
     "text": [
      "Added Tablet to shelf warehouse_inventory.ShelfA1\n"
     ]
    }
   ],
   "source": [
    "new_item(\"Tablet\", \"ID111\", \"electronics\", 15, shelf_a1)"
   ]
  },
  {
   "cell_type": "code",
   "execution_count": 11,
   "id": "b97947b1-633c-480e-b29f-2c8c8911814d",
   "metadata": {},
   "outputs": [
    {
     "name": "stdout",
     "output_type": "stream",
     "text": [
      "Current Inventory:\n",
      "Item: Laptop\n",
      "ID: ID123\n",
      "Type: electronics\n",
      "Quantity: 20\n",
      "Shelf: ShelfA1\n",
      "Section: SectionA\n",
      "Warehouse: MainWarehouse\n",
      "______\n",
      "Item: Phone\n",
      "ID: ID321\n",
      "Type: electronics\n",
      "Quantity: 50\n",
      "Shelf: ShelfB1\n",
      "Section: SectionB\n",
      "Warehouse: MainWarehouse\n",
      "______\n",
      "Item: Tablet\n",
      "ID: ID111\n",
      "Type: electronics\n",
      "Quantity: 15\n",
      "Shelf: ShelfA1\n",
      "Section: SectionA\n",
      "Warehouse: MainWarehouse\n",
      "______\n"
     ]
    }
   ],
   "source": [
    "inventory()"
   ]
  },
  {
   "cell_type": "code",
   "execution_count": 13,
   "id": "f825d9cd-f9e7-4b83-8e7b-ea26d5a8607a",
   "metadata": {},
   "outputs": [
    {
     "name": "stdout",
     "output_type": "stream",
     "text": [
      "Removed 5 from Laptop. New quantity: 15\n"
     ]
    }
   ],
   "source": [
    "remove_stock(\"Laptop\", 5)"
   ]
  },
  {
   "cell_type": "code",
   "execution_count": 15,
   "id": "b102b01e-6ff2-424a-ac1d-b096035d7d07",
   "metadata": {},
   "outputs": [
    {
     "name": "stdout",
     "output_type": "stream",
     "text": [
      "Current Inventory:\n",
      "Item: Laptop\n",
      "ID: ID123\n",
      "Type: electronics\n",
      "Quantity: 15\n",
      "Shelf: ShelfA1\n",
      "Section: SectionA\n",
      "Warehouse: MainWarehouse\n",
      "______\n",
      "Item: Phone\n",
      "ID: ID321\n",
      "Type: electronics\n",
      "Quantity: 50\n",
      "Shelf: ShelfB1\n",
      "Section: SectionB\n",
      "Warehouse: MainWarehouse\n",
      "______\n",
      "Item: Tablet\n",
      "ID: ID111\n",
      "Type: electronics\n",
      "Quantity: 15\n",
      "Shelf: ShelfA1\n",
      "Section: SectionA\n",
      "Warehouse: MainWarehouse\n",
      "______\n"
     ]
    }
   ],
   "source": [
    "inventory()"
   ]
  },
  {
   "cell_type": "code",
   "execution_count": 17,
   "id": "3087cbe5-405d-4750-b3aa-4ef95202c42f",
   "metadata": {},
   "outputs": [
    {
     "name": "stdout",
     "output_type": "stream",
     "text": [
      "Added 10 to Tablet. New quantity: 25\n"
     ]
    }
   ],
   "source": [
    "add_stock(\"Tablet\", 10)"
   ]
  },
  {
   "cell_type": "code",
   "execution_count": 19,
   "id": "d140a6b8-c2f0-4d4e-8683-e3223ebe335d",
   "metadata": {},
   "outputs": [
    {
     "name": "stdout",
     "output_type": "stream",
     "text": [
      "Current Inventory:\n",
      "Item: Laptop\n",
      "ID: ID123\n",
      "Type: electronics\n",
      "Quantity: 15\n",
      "Shelf: ShelfA1\n",
      "Section: SectionA\n",
      "Warehouse: MainWarehouse\n",
      "______\n",
      "Item: Phone\n",
      "ID: ID321\n",
      "Type: electronics\n",
      "Quantity: 50\n",
      "Shelf: ShelfB1\n",
      "Section: SectionB\n",
      "Warehouse: MainWarehouse\n",
      "______\n",
      "Item: Tablet\n",
      "ID: ID111\n",
      "Type: electronics\n",
      "Quantity: 25\n",
      "Shelf: ShelfA1\n",
      "Section: SectionA\n",
      "Warehouse: MainWarehouse\n",
      "______\n"
     ]
    }
   ],
   "source": [
    "inventory()"
   ]
  },
  {
   "cell_type": "code",
   "execution_count": 21,
   "id": "93463099-4e81-44c2-86c9-d8b1cd9f356e",
   "metadata": {},
   "outputs": [
    {
     "name": "stdout",
     "output_type": "stream",
     "text": [
      "Moved Tablet to ShelfB1\n"
     ]
    }
   ],
   "source": [
    "move_item(\"Tablet\", \"ShelfB1\")"
   ]
  },
  {
   "cell_type": "code",
   "execution_count": 23,
   "id": "20efbca3-0eac-41db-9d4d-3240f16c29a8",
   "metadata": {},
   "outputs": [
    {
     "name": "stdout",
     "output_type": "stream",
     "text": [
      "Current Inventory:\n",
      "Item: Laptop\n",
      "ID: ID123\n",
      "Type: electronics\n",
      "Quantity: 15\n",
      "Shelf: ShelfA1\n",
      "Section: SectionA\n",
      "Warehouse: MainWarehouse\n",
      "______\n",
      "Item: Phone\n",
      "ID: ID321\n",
      "Type: electronics\n",
      "Quantity: 50\n",
      "Shelf: ShelfB1\n",
      "Section: SectionB\n",
      "Warehouse: MainWarehouse\n",
      "______\n",
      "Item: Tablet\n",
      "ID: ID111\n",
      "Type: electronics\n",
      "Quantity: 25\n",
      "Shelf: ShelfB1\n",
      "Section: SectionB\n",
      "Warehouse: MainWarehouse\n",
      "______\n"
     ]
    }
   ],
   "source": [
    "inventory()"
   ]
  }
 ],
 "metadata": {
  "kernelspec": {
   "display_name": "Python 3 (ipykernel)",
   "language": "python",
   "name": "python3"
  },
  "language_info": {
   "codemirror_mode": {
    "name": "ipython",
    "version": 3
   },
   "file_extension": ".py",
   "mimetype": "text/x-python",
   "name": "python",
   "nbconvert_exporter": "python",
   "pygments_lexer": "ipython3",
   "version": "3.12.4"
  }
 },
 "nbformat": 4,
 "nbformat_minor": 5
}
